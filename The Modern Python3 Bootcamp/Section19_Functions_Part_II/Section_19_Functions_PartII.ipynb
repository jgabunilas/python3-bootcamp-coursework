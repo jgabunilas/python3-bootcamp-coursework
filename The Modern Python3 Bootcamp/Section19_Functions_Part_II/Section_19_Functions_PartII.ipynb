{
 "cells": [
  {
   "cell_type": "markdown",
   "metadata": {},
   "source": [
    "## *args Exercise\n",
    "Takes any number of arguments and retruns True if any of the arguments is \"purple\""
   ]
  },
  {
   "cell_type": "code",
   "execution_count": 1,
   "metadata": {},
   "outputs": [
    {
     "name": "stdout",
     "output_type": "stream",
     "text": [
      "True\n",
      "True\n",
      "True\n",
      "True\n",
      "True\n"
     ]
    }
   ],
   "source": [
    "def contains_purple(*args):\n",
    "    return 'purple' in args\n",
    "\n",
    "print(contains_purple(25, \"purple\"))\n",
    "print(contains_purple(25, \"purple\"))\n",
    "print(contains_purple(25, \"purple\"))\n",
    "print(contains_purple(25, \"purple\"))\n",
    "print(contains_purple(25, \"purple\"))\n"
   ]
  },
  {
   "cell_type": "markdown",
   "metadata": {},
   "source": [
    "## **kwargs Exercise - Combine Words\n",
    "Accepts a single string called word and any number of additional keyword arguments. If a prefix is provided, return the prefix followed by the word. If a suffix is provided, return the word followed by a suffix. If neither is provided, just return the word itself."
   ]
  },
  {
   "cell_type": "code",
   "execution_count": 7,
   "metadata": {},
   "outputs": [
    {
     "name": "stdout",
     "output_type": "stream",
     "text": [
      "child\n",
      "manchild\n",
      "childish\n",
      "worker\n",
      "homework\n"
     ]
    }
   ],
   "source": [
    "def combine_words(word, **kwargs):\n",
    "    if 'prefix' in kwargs:\n",
    "        return kwargs['prefix']+word\n",
    "    elif 'suffix' in kwargs:\n",
    "        return word + kwargs['suffix']\n",
    "    return word\n",
    "\n",
    "print(combine_words('child'))\n",
    "print(combine_words('child', prefix='man'))\n",
    "print(combine_words('child', suffix='ish'))\n",
    "print(combine_words('work', suffix='er'))\n",
    "print(combine_words('work', prefix='home'))\n"
   ]
  },
  {
   "cell_type": "code",
   "execution_count": 5,
   "metadata": {},
   "outputs": [
    {
     "name": "stdout",
     "output_type": "stream",
     "text": [
      "(1, 2, 3, 4)\n"
     ]
    }
   ],
   "source": [
    "def a_func(*args):\n",
    "    print(args)\n",
    "\n",
    "my_list = [1,2,3,4]\n",
    "a_func(*my_list)"
   ]
  },
  {
   "cell_type": "markdown",
   "metadata": {},
   "source": [
    "## Unpacking Exercise\n",
    "Call count_sevens with 1,4, 7 and save the result as result1.\n",
    "Then call count_sevens, pass in all of the numbers in the list `nums` as individual arguments using unpacking. Save the result as result2"
   ]
  },
  {
   "cell_type": "code",
   "execution_count": 8,
   "metadata": {},
   "outputs": [
    {
     "name": "stdout",
     "output_type": "stream",
     "text": [
      "1\n",
      "14\n"
     ]
    }
   ],
   "source": [
    "# NO TOUCHING! =================================================================\n",
    "def count_sevens(*args):\n",
    "#     print(args)\n",
    "    return args.count(7)\n",
    "\n",
    "nums = [90,1,35,67,89,20,3,1,2,3,4,5,6,9,34,46,57,68,79,12,23,34,55,1,90,54,34,76,8,23,34,45,56,67,78,12,23,34,45,56,67,768,23,4,5,6,7,8,9,12,34,14,15,16,17,11,7,11,8,4,6,2,5,8,7,10,12,13,14,15,7,8,7,7,345,23,34,45,56,67,1,7,3,6,7,2,3,4,5,6,7,8,9,8,7,6,5,4,2,1,2,3,4,5,6,7,8,9,0,9,8,7,8,7,6,5,4,3,2,1,7]\n",
    "# NO TOUCHING! =================================================================\n",
    "\n",
    "# Write your code below:\n",
    "\n",
    "result1 = count_sevens(1, 4, 7)\n",
    "print(result1)\n",
    "result2 = count_sevens(*nums)\n",
    "print(result2)"
   ]
  },
  {
   "cell_type": "markdown",
   "metadata": {},
   "source": [
    "## Calculate\n",
    "Takes accepts a list of keyword arguments"
   ]
  },
  {
   "cell_type": "code",
   "execution_count": 9,
   "metadata": {},
   "outputs": [
    {
     "name": "stdout",
     "output_type": "stream",
     "text": [
      "You just added 6\n",
      "The result is 0.7\n"
     ]
    }
   ],
   "source": [
    "def calculate(**kwargs):\n",
    "    if kwargs['operation'] == 'add':\n",
    "        result = kwargs['first'] + kwargs['second']\n",
    "    elif kwargs['operation'] == 'subtract':\n",
    "        result = kwargs['first'] - kwargs['second']\n",
    "    elif kwargs['operation'] == 'multiply':\n",
    "        result = kwargs['first'] * kwargs['second']\n",
    "    elif kwargs['operation'] == 'divide':\n",
    "        result = kwargs['first'] / kwargs['second']\n",
    "    \n",
    "    if kwargs['make_float'] == False:\n",
    "        if 'message' in kwargs:\n",
    "            return \"{} {}\".format(kwargs['message'], int(result))\n",
    "        return \"The result is {}\".format(int(result))\n",
    "    \n",
    "    if \"message\" in kwargs:\n",
    "        return \"{} {}\".format(kwargs['message'], float(result))\n",
    "    return \"The result is {}\".format(float(result))\n",
    "    \n",
    "\n",
    "print(calculate(make_float=False, operation='add', message='You just added', first=2, second=4))\n",
    "print(calculate(make_float=True, operation='divide', first=3.5, second=5))\n",
    "\n",
    "        \n"
   ]
  },
  {
   "cell_type": "code",
   "execution_count": null,
   "metadata": {},
   "outputs": [],
   "source": []
  }
 ],
 "metadata": {
  "kernelspec": {
   "display_name": "Python 3.6.10 64-bit ('PythonData': conda)",
   "language": "python",
   "name": "python361064bitpythondataconda907735891ebd40c8b062b8b7a0c6961c"
  },
  "language_info": {
   "codemirror_mode": {
    "name": "ipython",
    "version": 3
   },
   "file_extension": ".py",
   "mimetype": "text/x-python",
   "name": "python",
   "nbconvert_exporter": "python",
   "pygments_lexer": "ipython3",
   "version": "3.6.12"
  }
 },
 "nbformat": 4,
 "nbformat_minor": 4
}
