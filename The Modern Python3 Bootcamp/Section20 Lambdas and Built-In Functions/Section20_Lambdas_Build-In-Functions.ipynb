{
 "cells": [
  {
   "cell_type": "markdown",
   "metadata": {},
   "source": [
    "## Writing your own Lambda Function\n",
    "This lambda function takes in a single number and cubes it"
   ]
  },
  {
   "cell_type": "code",
   "execution_count": null,
   "metadata": {},
   "outputs": [],
   "source": [
    "cube = lambda num: num * num * num\n",
    "\n",
    "cube(3)"
   ]
  },
  {
   "cell_type": "markdown",
   "metadata": {},
   "source": [
    "## Map Time Exercise\n",
    "This function `decrement_list` accepts a single list of numbers as a parameter, and returns a copy of the list where each item has be decremented by one"
   ]
  },
  {
   "cell_type": "code",
   "execution_count": 5,
   "metadata": {},
   "outputs": [
    {
     "name": "stdout",
     "output_type": "stream",
     "text": [
      "[0, 1, 2]\n",
      "[0, 1, 2]\n"
     ]
    }
   ],
   "source": [
    "def decrement_list(nums):\n",
    "    return list(map(lambda x: x-1, nums))\n",
    "\n",
    "print(decrement_list([1, 2, 3]))\n",
    "\n",
    "# Classical approach\n",
    "def decrement_list2(nums):\n",
    "    decremented_list = []\n",
    "    for num in nums:\n",
    "        decremented_list.append(num - 1)\n",
    "    return decremented_list\n",
    "\n",
    "print(decrement_list2([1,2,3]))"
   ]
  },
  {
   "cell_type": "markdown",
   "metadata": {},
   "source": [
    "## Filter Exercise\n",
    "The function `remove_negatives` accepts a list of numbers and returns a copy of the lists with all negative numbers removed."
   ]
  },
  {
   "cell_type": "code",
   "execution_count": 8,
   "metadata": {},
   "outputs": [
    {
     "name": "stdout",
     "output_type": "stream",
     "text": [
      "[3, 4]\n",
      "[0, 1, 2, 3, 4, 5]\n"
     ]
    }
   ],
   "source": [
    "def remove_negatives(nums):\n",
    "    return list(filter(lambda x: x >= 0, nums))\n",
    "\n",
    "print(remove_negatives([-1, 3, 4, -99]))\n",
    "print(remove_negatives([-7, 0, 1, 2, 3, 4, 5]))"
   ]
  },
  {
   "cell_type": "markdown",
   "metadata": {},
   "source": [
    " ## All practice"
   ]
  },
  {
   "cell_type": "code",
   "execution_count": 6,
   "metadata": {},
   "outputs": [
    {
     "name": "stdout",
     "output_type": "stream",
     "text": [
      "['Charlie', 'Casey', 'Cody', 'Carly', 'Christina']\n",
      "[True, True, True, True, True]\n"
     ]
    }
   ],
   "source": [
    "people = [\"Charlie\", \"Casey\", \"Cody\", \"Carly\", \"Christina\"]\n",
    "print([name for name in people if name[0] == \"C\"])\n",
    "print([name[0] == \"C\" for name in people])\n"
   ]
  },
  {
   "cell_type": "markdown",
   "metadata": {},
   "source": [
    "## Is All Strings\n",
    "Function accepts a single iterable and returns True if it contains only strings. Otherwise it returns False"
   ]
  },
  {
   "cell_type": "code",
   "execution_count": 13,
   "metadata": {},
   "outputs": [
    {
     "name": "stdout",
     "output_type": "stream",
     "text": [
      "True\n",
      "False\n",
      "True\n"
     ]
    }
   ],
   "source": [
    "def is_all_strings(iterable):\n",
    "    return all((type(item) == str for item in iterable))\n",
    "\n",
    "print(is_all_strings(['a', 'b', 'c']))\n",
    "print(is_all_strings([2, 'a', 'b', 'c']))\n",
    "print(is_all_strings(['hello', 'goodbye',]))\n"
   ]
  },
  {
   "cell_type": "markdown",
   "metadata": {},
   "source": [
    "## Extremes Exercise\n",
    "The function `extremes` accepts an iterable, and returns a tuple containing the minimum and maximum elements of the iterable"
   ]
  },
  {
   "cell_type": "code",
   "execution_count": 16,
   "metadata": {},
   "outputs": [
    {
     "name": "stdout",
     "output_type": "stream",
     "text": [
      "(1, 5)\n",
      "(-7, 99)\n",
      "('a', 'z')\n"
     ]
    }
   ],
   "source": [
    "def extremes(items):\n",
    "    smallest = min(items)\n",
    "    largest = max(items)\n",
    "    return smallest, largest\n",
    "\n",
    "print(extremes([1,2,3,4,5]))\n",
    "print(extremes([99, 25, 30, -7]))\n",
    "print(extremes(\"alcatraz\"))"
   ]
  },
  {
   "cell_type": "markdown",
   "metadata": {},
   "source": [
    "## Greatest Magnitude\n",
    "Function accepts a single list of numbers and returns the magnitude of the number with the largest magnitude (furthest from zero)"
   ]
  },
  {
   "cell_type": "code",
   "execution_count": 2,
   "metadata": {},
   "outputs": [
    {
     "name": "stdout",
     "output_type": "stream",
     "text": [
      "900\n",
      "12\n",
      "89\n",
      "900\n",
      "12\n",
      "89\n"
     ]
    }
   ],
   "source": [
    "def max_magnitude(numbers):\n",
    "    max_mag = 0\n",
    "    for num in numbers:\n",
    "        if abs(num) > max_mag:\n",
    "            max_mag = abs(num)\n",
    "    return max_mag\n",
    "\n",
    "print(max_magnitude([300, 20, -900]))\n",
    "print(max_magnitude([10,11,12]))\n",
    "print(max_magnitude([-5, -1, -89]))\n",
    "\n",
    "# Alternative solution using max() and abs() and list comprehension\n",
    "\n",
    "def max_magnitude(numbers):\n",
    "    return max(abs(num) for num in numbers)\n",
    "\n",
    "print(max_magnitude([300, 20, -900]))\n",
    "print(max_magnitude([10,11,12]))\n",
    "print(max_magnitude([-5, -1, -89]))\n"
   ]
  },
  {
   "cell_type": "markdown",
   "metadata": {},
   "source": [
    "## Sum Even Values\n",
    "Function accepts a variable number of arguments and return the sum of all arguments that are divisible by 2. If there are no numbers divisible by 2, return 0. All numbers should be accepted as individual aruguments"
   ]
  },
  {
   "cell_type": "code",
   "execution_count": 9,
   "metadata": {},
   "outputs": [
    {
     "name": "stdout",
     "output_type": "stream",
     "text": [
      "12\n",
      "16\n",
      "0\n",
      "break\n",
      "12\n",
      "16\n",
      "0\n",
      "break\n",
      "12\n",
      "16\n",
      "0\n"
     ]
    }
   ],
   "source": [
    "def sum_even_values(*args):\n",
    "    if any(number for number in args if number % 2 == 0):\n",
    "        return sum(number for number in args if number % 2 == 0)\n",
    "    return 0\n",
    "\n",
    "print(sum_even_values(1,2,3,4,5,6))\n",
    "print(sum_even_values(4,2,1,10))\n",
    "print(sum_even_values(1))\n",
    "\n",
    "# More readable solution\n",
    "def sum_even_values(*args):\n",
    "    sum_evens = 0\n",
    "    for number in args:\n",
    "        if number % 2 == 0:\n",
    "            sum_evens += number\n",
    "    return sum_evens\n",
    "\n",
    "print('break')\n",
    "print(sum_even_values(1,2,3,4,5,6))\n",
    "print(sum_even_values(4,2,1,10))\n",
    "print(sum_even_values(1))\n",
    "\n",
    "# A simpler solution\n",
    "def sum_even_values(*args):\n",
    "    return sum(number for number in args if number % 2 == 0)\n",
    "\n",
    "print('break')\n",
    "print(sum_even_values(1,2,3,4,5,6))\n",
    "print(sum_even_values(4,2,1,10))\n",
    "print(sum_even_values(1))"
   ]
  },
  {
   "cell_type": "markdown",
   "metadata": {},
   "source": [
    "## Sum Floats\n",
    "Accepts a variable number of arguments and returns teh sum of all parameters that are floats. If there are no floats, returns 0"
   ]
  },
  {
   "cell_type": "code",
   "execution_count": 11,
   "metadata": {},
   "outputs": [
    {
     "name": "stdout",
     "output_type": "stream",
     "text": [
      "3.9\n",
      "0\n",
      "break\n",
      "3.9\n",
      "0\n"
     ]
    }
   ],
   "source": [
    "def sum_floats(*args):\n",
    "    sum_of_floats = 0\n",
    "    for value in args:\n",
    "        if type(value) == float:\n",
    "            sum_of_floats += value\n",
    "    return sum_of_floats\n",
    "\n",
    "print(sum_floats(1.5, 2.4, 'awesome', [], 1))\n",
    "print(sum_floats(1,2,3,4,5))\n",
    "\n",
    "# Alternative solution\n",
    "def sum_floats(*args):\n",
    "    return sum(arg for arg in args if type(arg) == float)\n",
    "\n",
    "print('break')\n",
    "print(sum_floats(1.5, 2.4, 'awesome', [], 1))\n",
    "print(sum_floats(1,2,3,4,5))"
   ]
  },
  {
   "cell_type": "markdown",
   "metadata": {},
   "source": [
    "## Interleaving strings\n",
    "The function interleave accepts two strings. It should return a new string containing the 2 strings interwoven or zipped together"
   ]
  },
  {
   "cell_type": "code",
   "execution_count": 29,
   "metadata": {},
   "outputs": [
    {
     "name": "stdout",
     "output_type": "stream",
     "text": [
      "hhia\n",
      "azazaz\n",
      "lizard\n"
     ]
    }
   ],
   "source": [
    "def interleave(string1, string2):\n",
    "    # first perform a zip of the two strings\n",
    "    iters = list(zip(string1, string2))\n",
    "#     print(iters)\n",
    "    # Initialize an empty string\n",
    "    reconst_str = ''\n",
    "    # Iterate over each zip object in the list\n",
    "    for iterable in iters:\n",
    "        # Iterate over each letter in the zip object\n",
    "        for item in iterable:\n",
    "            # Append the letter to the growing string\n",
    "            reconst_str += item\n",
    "    return reconst_str\n",
    "   \n",
    "\n",
    "    \n",
    "print(interleave('hi','ha'))\n",
    "print(interleave('aaa','zzz'))\n",
    "print(interleave('lzr','iad'))\n",
    "\n",
    "# Alternative approach using join. First you zip the strings together, then join the letters of the individual tuples together into strings. Finally join the three tupled strings together with another join().\n",
    "def interleave(str1,str2):\n",
    "    return ''.join(''.join(x) for x in (zip(str1,str2)))"
   ]
  },
  {
   "cell_type": "markdown",
   "metadata": {},
   "source": [
    "## triple_and_filter\n",
    "Accepts a list of numbers and filters out every number that is not divisible by 4, then returns a new list where every remaning number is tripled."
   ]
  },
  {
   "cell_type": "code",
   "execution_count": 40,
   "metadata": {},
   "outputs": [
    {
     "name": "stdout",
     "output_type": "stream",
     "text": [
      "[12]\n",
      "[24, 36]\n"
     ]
    }
   ],
   "source": [
    "# Create the function to determine whether a number is divisible by 4\n",
    "def filter_four(number):\n",
    "    if number % 4 == 0:\n",
    "        return True\n",
    "    return False\n",
    "\n",
    "def triple_and_filter(nums):\n",
    "    filtered_nums = filter(filter_four, nums)\n",
    "    filtered_tripled = []\n",
    "    for number in list(filtered_nums):\n",
    "        filtered_tripled.append(number * 3)\n",
    "    return filtered_tripled\n",
    "\n",
    "print(triple_and_filter([1,2,3,4]))\n",
    "print(triple_and_filter([6,8,10,12]))\n",
    "\n",
    "# Alternative solution using map() and filter() in combination\n",
    "def triple_and_filter(lst):\n",
    "    return list(filter(lambda x: x % 4 == 0, map(lambda x: x*3, lst)))\n"
   ]
  },
  {
   "cell_type": "markdown",
   "metadata": {},
   "source": [
    "## Extract Full Name\n",
    "Accepts a list of dictionaries and returns a new list of strings with the first and last name keys in each dictionary concatenated\n"
   ]
  },
  {
   "cell_type": "code",
   "execution_count": 64,
   "metadata": {},
   "outputs": [
    {
     "data": {
      "text/plain": [
       "['Elie Schoppik', 'Colt Steele']"
      ]
     },
     "execution_count": 64,
     "metadata": {},
     "output_type": "execute_result"
    }
   ],
   "source": [
    "def extract_full_name(name_dicts):\n",
    "#     print(name_dicts[0]['first'], name_dicts[0]['last'])\n",
    "    # Initialize an empty list to contain the full names\n",
    "    full_names = []\n",
    "    # Iterate over each name in the name_dicts dictionary\n",
    "    for name in name_dicts:\n",
    "#         print(name)\n",
    "        # For each name, append a new string consisting of the value of the \"first\" and \"last\" keys of the dictionary\n",
    "        full_names.append(name['first'] + \" \" + name['last'])\n",
    "    return(full_names)\n",
    "\n",
    "\n",
    "            \n",
    "        \n",
    "names = [{'first': 'Elie', 'last': 'Schoppik'}, {'first': 'Colt', 'last': 'Steele'}]\n",
    "extract_full_name(names) # ['Elie Schoppik', 'Colt Steele']\n",
    "            \n",
    "# Alternative solution using a lambda function, string formatting, and map()\n",
    "def extract_full_name(l):\n",
    "    return list(map(lambda val: \"{} {}\".format(val['first'], val['last']), l))\n",
    "            "
   ]
  },
  {
   "cell_type": "code",
   "execution_count": null,
   "metadata": {},
   "outputs": [],
   "source": []
  }
 ],
 "metadata": {
  "kernelspec": {
   "display_name": "Python 3.6.10 64-bit ('PythonData': conda)",
   "language": "python",
   "name": "python361064bitpythondataconda907735891ebd40c8b062b8b7a0c6961c"
  },
  "language_info": {
   "codemirror_mode": {
    "name": "ipython",
    "version": 3
   },
   "file_extension": ".py",
   "mimetype": "text/x-python",
   "name": "python",
   "nbconvert_exporter": "python",
   "pygments_lexer": "ipython3",
   "version": "3.6.12"
  }
 },
 "nbformat": 4,
 "nbformat_minor": 4
}
