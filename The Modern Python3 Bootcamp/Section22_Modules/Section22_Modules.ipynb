{
 "cells": [
  {
   "cell_type": "markdown",
   "metadata": {},
   "source": [
    "## Import Practice\n",
    "Import the math module, and use the sqrt method to find the quare root of 15129"
   ]
  },
  {
   "cell_type": "code",
   "execution_count": 3,
   "metadata": {},
   "outputs": [
    {
     "name": "stdout",
     "output_type": "stream",
     "text": [
      "123.0\n"
     ]
    }
   ],
   "source": [
    "import math\n",
    "answer = math.sqrt(15129)\n",
    "\n",
    "print(answer)"
   ]
  },
  {
   "cell_type": "markdown",
   "metadata": {},
   "source": [
    "## Contains Keyword\n",
    "Accepts any number of string arguments and does the following:\n",
    "\n",
    "- Returns True if any of the arguments are considered Python keywords\n",
    "- Returns False if there are no Python keywords in the provided strings\n",
    "\n",
    "Use the `keyword` module to accomplish this."
   ]
  },
  {
   "cell_type": "code",
   "execution_count": 15,
   "metadata": {},
   "outputs": [
    {
     "name": "stdout",
     "output_type": "stream",
     "text": [
      "False\n",
      "True\n",
      "True\n",
      "False\n",
      "True\n",
      "break\n",
      "False\n",
      "True\n",
      "True\n",
      "False\n",
      "True\n",
      "break\n",
      "False\n",
      "True\n",
      "True\n",
      "False\n",
      "True\n"
     ]
    }
   ],
   "source": [
    "from keyword import iskeyword\n",
    "\n",
    "# Short but unintuitive. Use the any function to check whether any of the strings in the args tuple is a keyword\n",
    "def contains_keyword(*args):\n",
    "    return any(iskeyword(string) for string in args)\n",
    "    \n",
    "print(contains_keyword('hello', 'goodbye'))\n",
    "print(contains_keyword('def', 'haha', 'lol', 'chicken', \"alaska\"))\n",
    "print(contains_keyword('four', 'for', \"if\"))\n",
    "print(contains_keyword('blah', 'doggo', \"crab\", \"anchor\"))\n",
    "print(contains_keyword('grizzly', 'ignore', \"return\", \"False\"))\n",
    "\n",
    "# Longer but more intuitive.\n",
    "def contains_keyword(*args):\n",
    "    # initialize an empty list that will store the results of the conditional test in the for loop - namely whether it is a Python keyword\n",
    "    is_keyword = []\n",
    "    # Iterate over each string and test whether it is a keyword, then return the result to the is_keyword list\n",
    "    for string in args:\n",
    "        is_keyword.append(iskeyword(string))\n",
    "    # Apply a final logic test to the is_keyword list and return whether the list contains at least one instance of \"True\"\n",
    "    return True in is_keyword\n",
    "\n",
    "print('break')\n",
    "print(contains_keyword('hello', 'goodbye'))\n",
    "print(contains_keyword('def', 'haha', 'lol', 'chicken', \"alaska\"))\n",
    "print(contains_keyword('four', 'for', \"if\"))\n",
    "print(contains_keyword('blah', 'doggo', \"crab\", \"anchor\"))\n",
    "print(contains_keyword('grizzly', 'ignore', \"return\", \"False\"))\n",
    "\n",
    "# A simpler version of the second one\n",
    "\n",
    "def contains_keyword(*args):\n",
    "    for string in args:\n",
    "        # Remember that a return command, if executed, will exit a function immediately. The rest of the for loop will not execute\n",
    "        if iskeyword(string):\n",
    "            return True\n",
    "    # If the for loop never encounters a keyword, the function will reeturn False\n",
    "    return False\n",
    "    \n",
    "print('break')\n",
    "print(contains_keyword('hello', 'goodbye'))\n",
    "print(contains_keyword('def', 'haha', 'lol', 'chicken', \"alaska\"))\n",
    "print(contains_keyword('four', 'for', \"if\"))\n",
    "print(contains_keyword('blah', 'doggo', \"crab\", \"anchor\"))\n",
    "print(contains_keyword('grizzly', 'ignore', \"return\", \"False\"))\n",
    "\n",
    "\n",
    "    \n",
    "    "
   ]
  },
  {
   "cell_type": "code",
   "execution_count": 5,
   "metadata": {},
   "outputs": [
    {
     "data": {
      "text/plain": [
       "True"
      ]
     },
     "execution_count": 5,
     "metadata": {},
     "output_type": "execute_result"
    }
   ],
   "source": []
  },
  {
   "cell_type": "code",
   "execution_count": null,
   "metadata": {},
   "outputs": [],
   "source": []
  }
 ],
 "metadata": {
  "kernelspec": {
   "display_name": "Python 3.6.10 64-bit ('PythonData': conda)",
   "language": "python",
   "name": "python361064bitpythondataconda907735891ebd40c8b062b8b7a0c6961c"
  },
  "language_info": {
   "codemirror_mode": {
    "name": "ipython",
    "version": 3
   },
   "file_extension": ".py",
   "mimetype": "text/x-python",
   "name": "python",
   "nbconvert_exporter": "python",
   "pygments_lexer": "ipython3",
   "version": "3.6.12"
  }
 },
 "nbformat": 4,
 "nbformat_minor": 4
}
