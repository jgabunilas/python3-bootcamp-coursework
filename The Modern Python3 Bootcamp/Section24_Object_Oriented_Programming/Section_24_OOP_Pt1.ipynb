{
 "cells": [
  {
   "cell_type": "markdown",
   "metadata": {},
   "source": [
    "## World's Simplest Class Exercise\n",
    "Creating a class called `Vehicle` with no attributes or methods and creating two instances of it"
   ]
  },
  {
   "cell_type": "code",
   "execution_count": 2,
   "metadata": {},
   "outputs": [],
   "source": [
    "class Vehicle():\n",
    "    pass\n",
    "\n",
    "car = Vehicle()\n",
    "boat = Vehicle()"
   ]
  },
  {
   "cell_type": "markdown",
   "metadata": {},
   "source": [
    "## Creating Social Media Comments Class\n",
    "Creating a class called `Comment` that has the attributes `username`, `text`, and `likes`\n"
   ]
  },
  {
   "cell_type": "code",
   "execution_count": 4,
   "metadata": {},
   "outputs": [
    {
     "name": "stdout",
     "output_type": "stream",
     "text": [
      "davey123 lol you're so silly 3\n",
      "rosa77 soooo cute!!! 0\n"
     ]
    }
   ],
   "source": [
    "class Comment():\n",
    "    def __init__(self, username, text, likes = 0):\n",
    "        self.username = username\n",
    "        self.text = text\n",
    "        self.likes = likes\n",
    "    \n",
    "c = Comment('davey123', \"lol you're so silly\", 3)\n",
    "print(c.username, c.text, c.likes)\n",
    "\n",
    "another_comment = Comment('rosa77', \"soooo cute!!!\")\n",
    "print(another_comment.username, another_comment.text, another_comment.likes)"
   ]
  },
  {
   "cell_type": "markdown",
   "metadata": {},
   "source": [
    "## Defining Bank Account Class\n",
    "Define a `BankAccount` class with attributes `owner`, `balance` attribute initialized to 0, a `deposit()` method that adds the value to the balance, and a `withdraw()` method that subtracts the value from the balance"
   ]
  },
  {
   "cell_type": "code",
   "execution_count": 9,
   "metadata": {},
   "outputs": [
    {
     "name": "stdout",
     "output_type": "stream",
     "text": [
      "Darcy\n",
      "0\n",
      "10\n",
      "7\n",
      "7\n"
     ]
    }
   ],
   "source": [
    "class BankAccount():\n",
    "    def __init__(self, owner):\n",
    "        self.owner = owner\n",
    "        self.balance = 0\n",
    "        \n",
    "    def deposit(self, d_amount):\n",
    "        self.balance += d_amount\n",
    "        return self.balance\n",
    "    \n",
    "    def withdraw(self, w_amount):\n",
    "        self.balance -= w_amount\n",
    "        return self.balance\n",
    "\n",
    "acct = BankAccount('Darcy')\n",
    "print(acct.owner)\n",
    "print(acct.balance)\n",
    "print(acct.deposit(10))\n",
    "print(acct.withdraw(3))\n",
    "print(acct.balance)\n"
   ]
  },
  {
   "cell_type": "markdown",
   "metadata": {},
   "source": [
    "## Chicken Coop\n",
    "We'll create a `Chicken` class that will allow us to track each of our hens and how many eggs they have laid. Each chicken will have a `species` and a `name`, and an integer attribute called `eggs` that always initializes to 0.\n",
    "\n",
    "Each `Chicken` also has an instance method called `lay_egg()` which increases the `eggs` attribute and returns it. Finally a **class variable** called `total eggs` will track the number of eggs laid by all chickens in total."
   ]
  },
  {
   "cell_type": "code",
   "execution_count": 5,
   "metadata": {},
   "outputs": [
    {
     "name": "stdout",
     "output_type": "stream",
     "text": [
      "0\n",
      "1\n",
      "1\n",
      "1\n",
      "2\n",
      "3\n"
     ]
    }
   ],
   "source": [
    "class Chicken():\n",
    "    \n",
    "    total_eggs = 0\n",
    "    \n",
    "    def __init__(self, species, name):\n",
    "        self.species = species\n",
    "        self.name = name\n",
    "        self.eggs = 0\n",
    "        \n",
    "    def lay_egg(self):\n",
    "        self.eggs += 1\n",
    "        Chicken.total_eggs += 1\n",
    "        return self.eggs\n",
    "    \n",
    "c1 = Chicken(name = \"Alice\", species = \"Partridge Silkie\")\n",
    "c2 = Chicken(name = \"Amelia\", species = \"Speckled Sussex\")\n",
    "print(Chicken.total_eggs)\n",
    "print(c1.lay_egg())\n",
    "print(Chicken.total_eggs)\n",
    "print(c2.lay_egg())\n",
    "print(c2.lay_egg())\n",
    "print(Chicken.total_eggs)\n"
   ]
  },
  {
   "cell_type": "code",
   "execution_count": null,
   "metadata": {},
   "outputs": [],
   "source": []
  }
 ],
 "metadata": {
  "kernelspec": {
   "display_name": "Python 3.6.10 64-bit ('PythonData': conda)",
   "language": "python",
   "name": "python361064bitpythondataconda907735891ebd40c8b062b8b7a0c6961c"
  },
  "language_info": {
   "codemirror_mode": {
    "name": "ipython",
    "version": 3
   },
   "file_extension": ".py",
   "mimetype": "text/x-python",
   "name": "python",
   "nbconvert_exporter": "python",
   "pygments_lexer": "ipython3",
   "version": "3.6.12"
  }
 },
 "nbformat": 4,
 "nbformat_minor": 4
}
