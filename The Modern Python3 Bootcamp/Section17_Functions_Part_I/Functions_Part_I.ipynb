{
 "cells": [
  {
   "cell_type": "markdown",
   "metadata": {},
   "source": [
    "Your first function"
   ]
  },
  {
   "cell_type": "code",
   "execution_count": 1,
   "metadata": {},
   "outputs": [
    {
     "name": "stdout",
     "output_type": "stream",
     "text": [
      "THE CROWD GOES WILD\n"
     ]
    }
   ],
   "source": [
    "def make_noise():\n",
    "    print(\"THE CROWD GOES WILD\")\n",
    "\n",
    "make_noise()"
   ]
  },
  {
   "cell_type": "markdown",
   "metadata": {},
   "source": [
    "## Super quick return exercise"
   ]
  },
  {
   "cell_type": "code",
   "execution_count": 1,
   "metadata": {},
   "outputs": [
    {
     "name": "stdout",
     "output_type": "stream",
     "text": [
      "oink\n"
     ]
    }
   ],
   "source": [
    "def speak_pig():\n",
    "    return \"oink\"\n",
    "\n",
    "print(speak_pig())"
   ]
  },
  {
   "cell_type": "markdown",
   "metadata": {},
   "source": [
    "## Generating Evens Exercise"
   ]
  },
  {
   "cell_type": "code",
   "execution_count": 14,
   "metadata": {},
   "outputs": [
    {
     "name": "stdout",
     "output_type": "stream",
     "text": [
      "[0, 2, 4, 6, 8, 10, 12, 14, 16, 18, 20, 22, 24, 26, 28, 30, 32, 34, 36, 38, 40, 42, 44, 46, 48]\n",
      "[0, 2, 4, 6, 8, 10, 12, 14, 16, 18, 20, 22, 24, 26, 28, 30, 32, 34, 36, 38, 40, 42, 44, 46, 48]\n"
     ]
    }
   ],
   "source": [
    "# def generate_evens():\n",
    "#     evens = []\n",
    "#     for number in range(0,50,2):\n",
    "#         evens.append(number)\n",
    "#     return evens\n",
    "\n",
    "# print(generate_evens())\n",
    "\n",
    "# Alternative using list comprehension\n",
    "def generate_evens():\n",
    "    return [number for number in range(0,50,2)]\n",
    "\n",
    "\n",
    "# Alternative using logicals\n",
    "# def generate_evens():\n",
    "#     evens = [number for number in range(0,50) if number % 2 == 0]\n",
    "#     return evens\n",
    "\n",
    "\n",
    "print(generate_evens())\n",
    "\n",
    "print(list(range(0,50,2)))\n",
    "\n"
   ]
  },
  {
   "cell_type": "markdown",
   "metadata": {},
   "source": [
    "## Yell Function Exercise"
   ]
  },
  {
   "cell_type": "code",
   "execution_count": 7,
   "metadata": {},
   "outputs": [
    {
     "data": {
      "text/plain": [
       "'LEAVE ME ALONE!'"
      ]
     },
     "execution_count": 7,
     "metadata": {},
     "output_type": "execute_result"
    }
   ],
   "source": [
    "def yell(phrase):\n",
    "    return phrase.upper() +  \"!\"\n",
    "\n",
    "# or using .format()\n",
    "\n",
    "def yell(phrase):\n",
    "    return \"{}!\".format(phrase.upper())\n",
    "\n",
    "# or using f-strings\n",
    "\n",
    "def yell(phrase):\n",
    "    return f\"{phrase.upper()}!\"\n",
    "\n",
    "yell('go away')\n",
    "yell('leave me alone')"
   ]
  },
  {
   "cell_type": "markdown",
   "metadata": {},
   "source": [
    "## Fix This Function!"
   ]
  },
  {
   "cell_type": "code",
   "execution_count": null,
   "metadata": {},
   "outputs": [],
   "source": [
    "# Incorrect\n",
    "\n",
    "def count_dollar_signs(word):\n",
    "    count = 0\n",
    "    for char in word:\n",
    "        if char == '$':\n",
    "            count += 1\n",
    "        return count\n",
    "    \n",
    "# Correct\n",
    "\n",
    "def count_dollar_signs(word):\n",
    "    count = 0\n",
    "    for char in word:\n",
    "        if char == '$':\n",
    "            count += 1\n",
    "    return count"
   ]
  },
  {
   "cell_type": "markdown",
   "metadata": {},
   "source": [
    "## Parameter Exercise - Talking Animals"
   ]
  },
  {
   "cell_type": "code",
   "execution_count": 6,
   "metadata": {},
   "outputs": [
    {
     "name": "stdout",
     "output_type": "stream",
     "text": [
      "woof\n",
      "oink\n",
      "quack\n",
      "meow\n",
      "woof\n",
      "?\n"
     ]
    }
   ],
   "source": [
    "def speak(animal = 'dog'):\n",
    "    if animal == 'pig':\n",
    "        return 'oink'\n",
    "    elif animal == 'duck':\n",
    "        return 'quack'\n",
    "    elif animal == 'cat':\n",
    "        return 'meow'\n",
    "    elif animal == 'dog':\n",
    "        return 'woof'\n",
    "    return '?'\n",
    "\n",
    "print(speak())\n",
    "print(speak('pig'))\n",
    "print(speak('duck'))\n",
    "print(speak('cat'))\n",
    "print(speak('dog'))\n",
    "print(speak('banana'))\n"
   ]
  },
  {
   "cell_type": "code",
   "execution_count": 9,
   "metadata": {},
   "outputs": [
    {
     "name": "stdout",
     "output_type": "stream",
     "text": [
      "1\n",
      "2\n",
      "3\n",
      "4\n",
      "5\n"
     ]
    }
   ],
   "source": [
    "total = 0\n",
    "def increment():\n",
    "    global total\n",
    "    total += 1\n",
    "    return total\n",
    "\n",
    "print(increment())\n",
    "print(increment())\n",
    "print(increment())\n",
    "print(increment())\n",
    "print(increment())\n",
    "\n",
    "\n",
    "# instructor = 'Colt'\n",
    "# def say_hello():\n",
    "#     instructor = instructor + 'ed'\n",
    "#     return f'Hello {instructor}'\n",
    "\n",
    "# print(say_hello())"
   ]
  },
  {
   "cell_type": "markdown",
   "metadata": {},
   "source": [
    "## Product\n",
    "This function accepts two parameters and returns the product of the two parameters"
   ]
  },
  {
   "cell_type": "code",
   "execution_count": 1,
   "metadata": {},
   "outputs": [
    {
     "data": {
      "text/plain": [
       "4"
      ]
     },
     "execution_count": 1,
     "metadata": {},
     "output_type": "execute_result"
    }
   ],
   "source": [
    "def product(num1, num2):\n",
    "    return num1 * num2\n",
    "\n",
    "product(2, 2)"
   ]
  },
  {
   "cell_type": "markdown",
   "metadata": {},
   "source": [
    "# return_day\n",
    "This function takes a number from 1-7 and returns the day of the week (1 is Sunday, 2 is Monday, etc)"
   ]
  },
  {
   "cell_type": "code",
   "execution_count": 11,
   "metadata": {},
   "outputs": [],
   "source": [
    "# Define a dictionary that holds days of the week\n",
    "days = {\n",
    "    \"Sunday\" : 1,\n",
    "    \"Monday\" : 2,\n",
    "    \"Tuesday\" : 3,\n",
    "    \"Wednesday\" : 4,\n",
    "    \"Thursday\" : 5,\n",
    "    \"Friday\" :  6,\n",
    "    \"Saturday\" : 7\n",
    "}\n",
    "\n",
    "def return_day(number):\n",
    "    for key, value in days.items():\n",
    "        if number == value:\n",
    "            return key\n",
    "    # If the loop completes without a key being returned, return None\n",
    "    return None\n",
    "    \n",
    "        \n",
    "return_day(8)\n",
    "    "
   ]
  },
  {
   "cell_type": "markdown",
   "metadata": {},
   "source": [
    "## The Last Element\n",
    "The function last_element takes a list and returns the last value of the list. It returns None if the list is empty"
   ]
  },
  {
   "cell_type": "code",
   "execution_count": 15,
   "metadata": {},
   "outputs": [
    {
     "name": "stdout",
     "output_type": "stream",
     "text": [
      "3\n",
      "None\n"
     ]
    }
   ],
   "source": [
    "'''\n",
    "last_element([1,2,3]) # 3\n",
    "last_element([]) # None\n",
    "'''\n",
    "\n",
    "def last_element(items_list):\n",
    "    if len(items_list) > 0:\n",
    "        return items_list[-1]\n",
    "    return None\n",
    "\n",
    "print(last_element([1,2,3]))\n",
    "print(last_element([]))"
   ]
  },
  {
   "cell_type": "markdown",
   "metadata": {},
   "source": [
    "## Number Compare\n",
    "number_compare takes two parameters (both numbers). If the first is greater than the second, it returns \"First is greater\". If the second number is greater than the first, it returns \"Second is greater\". Otherwise the function returns \"Numbers are equal\""
   ]
  },
  {
   "cell_type": "code",
   "execution_count": 16,
   "metadata": {},
   "outputs": [
    {
     "name": "stdout",
     "output_type": "stream",
     "text": [
      "Numbers are equal\n",
      "First is greater\n",
      "Second is greater\n"
     ]
    }
   ],
   "source": [
    "def number_compare(num1, num2):\n",
    "    if num1 > num2:\n",
    "        return \"First is greater\"\n",
    "    elif num2 > num1:\n",
    "        return \"Second is greater\"\n",
    "    return \"Numbers are equal\"\n",
    "\n",
    "print(number_compare(1, 1))\n",
    "print(number_compare(1, 0))\n",
    "print(number_compare(2, 4))\n"
   ]
  },
  {
   "cell_type": "markdown",
   "metadata": {},
   "source": [
    "## Single Letter Count\n",
    "Takes two strings, the first being a word and the second a letter, and returns the number of times the letter appears in the word. "
   ]
  },
  {
   "cell_type": "code",
   "execution_count": 18,
   "metadata": {},
   "outputs": [
    {
     "name": "stdout",
     "output_type": "stream",
     "text": [
      "1\n",
      "0\n",
      "3\n"
     ]
    }
   ],
   "source": [
    "def single_letter_count(phrase, letter):\n",
    "    ltr_count = 0\n",
    "    for character in phrase.lower():\n",
    "        if character == letter:\n",
    "            ltr_count += 1\n",
    "    return ltr_count\n",
    "\n",
    "print(single_letter_count('Hello World', 'h'))\n",
    "print(single_letter_count('Hello World', 'z'))\n",
    "print(single_letter_count('Hello World', 'l'))"
   ]
  },
  {
   "cell_type": "markdown",
   "metadata": {},
   "source": [
    "## Multiple Letter Count\n",
    "Takes a string as an argument and ret urns a dictionary with the keys being the letters in the strings and the values being the count of the letter"
   ]
  },
  {
   "cell_type": "code",
   "execution_count": 3,
   "metadata": {},
   "outputs": [
    {
     "name": "stdout",
     "output_type": "stream",
     "text": [
      "{'a': 1, 'w': 1, 'e': 2, 's': 1, 'o': 1, 'm': 1}\n",
      "{'a': 1, 'w': 1, 'e': 2, 's': 1, 'o': 1, 'm': 1}\n"
     ]
    }
   ],
   "source": [
    "def multiple_letter_count(phrase):\n",
    "    chars = {}\n",
    "    for character in phrase:\n",
    "        # if the character is already in the chars dictionary, increment the value of that character key by 1\n",
    "        if character in chars.keys():\n",
    "            chars[character] += 1\n",
    "        # Otherwise, initialize the value of that character key to 1\n",
    "        else:\n",
    "            chars[character] = 1\n",
    "    return chars\n",
    "\n",
    "print(multiple_letter_count('awesome'))\n",
    "\n",
    "# Alternative approach using dictionary comprehension. For each letter in the input string, I make the key the letter itself (\"a\" for example), and the corresponding value is the result of running count() of that letter in the string.\n",
    "def multiple_letter_count(string):\n",
    "    return {letter: string.count(letter) for letter in string}\n",
    "print(multiple_letter_count('awesome'))"
   ]
  },
  {
   "cell_type": "markdown",
   "metadata": {},
   "source": [
    "## List Manipulation Exercise\n",
    "Takes four arguments: a list, command, location, and value\n",
    "If command is \"remove\" and location is \"end\", remove the last value from the list and return the value removed\n",
    "If command is \"remove\" and the location is \"beginning\", remove the first value from the list and return the value removed.\n",
    "If command is \"add\" and the location is \"beginning\", add the value (fourth parameter) to the beginning of the list and return the list.\n",
    "If command is \"add\" and location is \"end\", the function should add the value (fourth parameter) to the end of the list and return the list"
   ]
  },
  {
   "cell_type": "code",
   "execution_count": 6,
   "metadata": {},
   "outputs": [
    {
     "name": "stdout",
     "output_type": "stream",
     "text": [
      "3\n",
      "1\n",
      "[20, 1, 2, 3]\n",
      "[1, 2, 3, 30]\n"
     ]
    }
   ],
   "source": [
    "def list_manipulation(the_list, command = 'remove', location = 'end', value = ''):\n",
    "    if command == 'remove':\n",
    "        if location == 'end':\n",
    "            return the_list.pop()\n",
    "        elif location == 'beginning':\n",
    "            return the_list.pop(0)\n",
    "    elif command == 'add':\n",
    "        if location == 'beginning':\n",
    "            the_list.insert(0, value)\n",
    "            return the_list\n",
    "        elif location == 'end':\n",
    "            # Another way is to just use the append() method\n",
    "            the_list.insert(len(the_list), value)\n",
    "            return the_list\n",
    "            \n",
    "\n",
    "print(list_manipulation([1,2,3], 'remove', 'end'))\n",
    "print(list_manipulation([1,2,3], 'remove', 'beginning'))\n",
    "print(list_manipulation([1,2,3], 'add', 'beginning', 20))\n",
    "print(list_manipulation([1,2,3], 'add', 'end', 30))\n",
    "\n"
   ]
  },
  {
   "cell_type": "markdown",
   "metadata": {},
   "source": [
    "## Is Palindrome\n",
    "Takes a word, phrase, number, or other sequence and determines whether it is a palindrome. "
   ]
  },
  {
   "cell_type": "code",
   "execution_count": 26,
   "metadata": {},
   "outputs": [
    {
     "name": "stdout",
     "output_type": "stream",
     "text": [
      "True\n",
      "True\n"
     ]
    }
   ],
   "source": [
    "def is_palindrome(entry):\n",
    "    stringified_entry = str(entry).lower()\n",
    "    stringified_entry = stringified_entry.replace(\" \",\"\")\n",
    "    reversal = stringified_entry[::-1]\n",
    "    if stringified_entry == reversal:\n",
    "        return True\n",
    "    return False\n",
    "    \n",
    "\n",
    "print(is_palindrome('a man a plan a canal Panama'))\n",
    "\n",
    "# Simpler version\n",
    "\n",
    "def is_palindrome(entry):\n",
    "    stripped = entry.replace(\" \", \"\").lower()\n",
    "    return stripped == stripped[::-1]\n",
    "\n",
    "print(is_palindrome('a man a plan a canal Panama'))\n",
    "\n",
    "    "
   ]
  },
  {
   "cell_type": "markdown",
   "metadata": {},
   "source": [
    "## Frequency\n",
    "Takes a list and a search term, and returns the number of times the search_term appears in the list"
   ]
  },
  {
   "cell_type": "code",
   "execution_count": 3,
   "metadata": {},
   "outputs": [
    {
     "name": "stdout",
     "output_type": "stream",
     "text": [
      "3\n",
      "1\n"
     ]
    }
   ],
   "source": [
    "def frequency(the_list, search_term):\n",
    "    count = 0\n",
    "    for item in the_list:\n",
    "        if item == search_term:\n",
    "            count += 1\n",
    "    return count\n",
    "\n",
    "print(frequency([1,2,3,4,4,4], 4))\n",
    "print(frequency([True, False, True, True], False))\n",
    "\n",
    "#Alternative approach using the .count() method\n",
    "\n",
    "def frequency(the_list, search_term):\n",
    "    return collection.count(search_term)\n"
   ]
  },
  {
   "cell_type": "markdown",
   "metadata": {},
   "source": [
    "## Multiply Even Numbers\n",
    "Accepts a list of numbers and returns the product of all even numbers"
   ]
  },
  {
   "cell_type": "code",
   "execution_count": 4,
   "metadata": {},
   "outputs": [
    {
     "name": "stdout",
     "output_type": "stream",
     "text": [
      "48\n"
     ]
    }
   ],
   "source": [
    "def multiply_even_numbers(num_list):\n",
    "    product = 1\n",
    "    for number in num_list:\n",
    "        if number % 2 == 0:\n",
    "            product = product * number\n",
    "    return product\n",
    "\n",
    "print(multiply_even_numbers([2,3,4,5,6]))"
   ]
  },
  {
   "cell_type": "markdown",
   "metadata": {},
   "source": [
    "## Capitalize\n",
    "Accepts a string and returns the same stringwith the first letter capitalized"
   ]
  },
  {
   "cell_type": "code",
   "execution_count": 4,
   "metadata": {},
   "outputs": [
    {
     "name": "stdout",
     "output_type": "stream",
     "text": [
      "Tim\n",
      "Matt\n"
     ]
    }
   ],
   "source": [
    "def capitalize(word):\n",
    "    return word[0].upper() + word[1:]\n",
    "\n",
    "print(capitalize('tim'))\n",
    "print(capitalize('matt'))"
   ]
  },
  {
   "cell_type": "markdown",
   "metadata": {},
   "source": [
    "## Compact\n",
    "Takes a list and returns a list of values that are truthy, without any falsey values"
   ]
  },
  {
   "cell_type": "code",
   "execution_count": 5,
   "metadata": {},
   "outputs": [
    {
     "name": "stdout",
     "output_type": "stream",
     "text": [
      "[1, 2, 'All done']\n"
     ]
    }
   ],
   "source": [
    "def compact(values):\n",
    "    compact_list = []\n",
    "    for value in values:\n",
    "        if value:\n",
    "            compact_list.append(value)\n",
    "    return compact_list\n",
    "\n",
    "print(compact([0,1,2,\"\",[], False, {}, None, \"All done\"]))"
   ]
  },
  {
   "cell_type": "markdown",
   "metadata": {},
   "source": [
    "## Intersection\n",
    "Accepts two lists and returns a list with the values that are in both lists"
   ]
  },
  {
   "cell_type": "code",
   "execution_count": 6,
   "metadata": {},
   "outputs": [
    {
     "name": "stdout",
     "output_type": "stream",
     "text": [
      "[2, 3]\n",
      "['z']\n"
     ]
    }
   ],
   "source": [
    "def intersection(list1, list2):\n",
    "    intersect = []\n",
    "    for item in list1:\n",
    "        if item in list2:\n",
    "            intersect.append(item)\n",
    "    return intersect\n",
    "\n",
    "print(intersection([1,2,3], [2, 3, 4]))\n",
    "print(intersection(['a','b','z'], ['x','y','z']))"
   ]
  },
  {
   "cell_type": "markdown",
   "metadata": {},
   "source": [
    "## Partition\n",
    "Accepts a list and a callback function. The function iterates over each element in the list and invokes the callback function at each iteration. \n",
    "This example the callback function determines whether a value is even."
   ]
  },
  {
   "cell_type": "code",
   "execution_count": 8,
   "metadata": {},
   "outputs": [
    {
     "name": "stdout",
     "output_type": "stream",
     "text": [
      "[[2, 4], [1, 3]]\n"
     ]
    }
   ],
   "source": [
    "def isEven(num):\n",
    "    return num % 2 == 0\n",
    "\n",
    "# Remember that a function can be an argument of another function!\n",
    "def partition(numbers, func):\n",
    "    truthy = []\n",
    "    falsy = []\n",
    "    for num in numbers:\n",
    "        if func(num):\n",
    "            truthy.append(num)\n",
    "        else:\n",
    "            falsy.append(num)\n",
    "    return [truthy, falsy]\n",
    "\n",
    "print(partition([1,2,3,4], isEven))"
   ]
  },
  {
   "cell_type": "code",
   "execution_count": null,
   "metadata": {},
   "outputs": [],
   "source": []
  }
 ],
 "metadata": {
  "kernelspec": {
   "display_name": "Python 3.6.10 64-bit ('PythonData': conda)",
   "language": "python",
   "name": "python361064bitpythondataconda907735891ebd40c8b062b8b7a0c6961c"
  },
  "language_info": {
   "codemirror_mode": {
    "name": "ipython",
    "version": 3
   },
   "file_extension": ".py",
   "mimetype": "text/x-python",
   "name": "python",
   "nbconvert_exporter": "python",
   "pygments_lexer": "ipython3",
   "version": "3.6.12"
  }
 },
 "nbformat": 4,
 "nbformat_minor": 4
}
