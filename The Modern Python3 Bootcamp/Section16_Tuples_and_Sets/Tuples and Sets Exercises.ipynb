{
 "cells": [
  {
   "cell_type": "markdown",
   "metadata": {},
   "source": [
    "# 1 - Create a variable called numbers which is a tuple with the the values 1, 2, 3 and 4 inside.\n",
    "\n",
    "\n",
    "# 2 - Create a variable called value which is a tuple with the the value 1 inside.\n",
    "\n",
    "\n",
    "# 3 - Given the following variable:\n",
    "\n",
    "values = [10,20,30]\n",
    "\n",
    "# Create a variable called static_values which is the result of the values variable converted to a tuple\n",
    "\n",
    "\n",
    "# 4 - Given the following variable\n",
    "\n",
    "stuff = [1,3,1,5,2,5,1,2,5]\n",
    "\n",
    "# Create a variable called unique_stuff which is a set of only the unique values in the stuff list"
   ]
  },
  {
   "cell_type": "code",
   "execution_count": 15,
   "metadata": {},
   "outputs": [
    {
     "data": {
      "text/plain": [
       "(1, 2, 3, 4)"
      ]
     },
     "execution_count": 15,
     "metadata": {},
     "output_type": "execute_result"
    }
   ],
   "source": [
    "numbers = (1, 2, 3, 4)\n",
    "numbers"
   ]
  },
  {
   "cell_type": "code",
   "execution_count": 16,
   "metadata": {},
   "outputs": [
    {
     "data": {
      "text/plain": [
       "(1,)"
      ]
     },
     "execution_count": 16,
     "metadata": {},
     "output_type": "execute_result"
    }
   ],
   "source": [
    "value = tuple([1])\n",
    "value"
   ]
  },
  {
   "cell_type": "code",
   "execution_count": 17,
   "metadata": {},
   "outputs": [
    {
     "data": {
      "text/plain": [
       "(10, 20, 30)"
      ]
     },
     "execution_count": 17,
     "metadata": {},
     "output_type": "execute_result"
    }
   ],
   "source": [
    "values = [10, 20, 30]\n",
    "static_values = tuple(values)\n",
    "static_values"
   ]
  },
  {
   "cell_type": "code",
   "execution_count": 18,
   "metadata": {},
   "outputs": [
    {
     "data": {
      "text/plain": [
       "{1, 2, 3, 5}"
      ]
     },
     "execution_count": 18,
     "metadata": {},
     "output_type": "execute_result"
    }
   ],
   "source": [
    "stuff = [1,3,1,5,2,5,1,2,5]\n",
    "unique_stuff = set(stuff)\n",
    "unique_stuff"
   ]
  },
  {
   "cell_type": "markdown",
   "metadata": {},
   "source": [
    "Solution\n",
    "# 1 - Create a variable called numbers which is a tuple with the the values 1, 2, 3 and 4 inside.\n",
    "numbers = (1,2,3,4)\n",
    " \n",
    "# 2 - Create a variable called value which is a tuple with the the value 1 inside.\n",
    "value = (1,)\n",
    " \n",
    "# 3 - Given the following variable:\n",
    "values = [10,20,30]\n",
    "# Create a variable called static_values which is the result of the values variable converted to a tuple\n",
    "static_values = tuple(values)\n",
    " \n",
    "# 3 - Given the following variable\n",
    "stuff = [1,3,1,5,2,5,1,2,5]\n",
    " \n",
    "# Create a variable called unique_stuff which is a set of only the unique values in the stuff list\n",
    "unique_stuff = set(stuff)"
   ]
  }
 ],
 "metadata": {
  "kernelspec": {
   "display_name": "Python 3.6.10 64-bit ('PythonData': conda)",
   "language": "python",
   "name": "python361064bitpythondataconda907735891ebd40c8b062b8b7a0c6961c"
  },
  "language_info": {
   "codemirror_mode": {
    "name": "ipython",
    "version": 3
   },
   "file_extension": ".py",
   "mimetype": "text/x-python",
   "name": "python",
   "nbconvert_exporter": "python",
   "pygments_lexer": "ipython3",
   "version": "3.6.12"
  }
 },
 "nbformat": 4,
 "nbformat_minor": 4
}
