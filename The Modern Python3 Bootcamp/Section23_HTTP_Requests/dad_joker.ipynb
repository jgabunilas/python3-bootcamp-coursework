{
 "cells": [
  {
   "cell_type": "markdown",
   "metadata": {},
   "source": [
    "## Dad Joke Generator\n",
    "Written by Jason Gabunilas"
   ]
  },
  {
   "cell_type": "code",
   "execution_count": 2,
   "metadata": {},
   "outputs": [],
   "source": [
    "# Import dependencies\n",
    "\n",
    "from pyfiglet import figlet_format\n",
    "from termcolor import colored\n",
    "from colorama import init\n",
    "import random\n",
    "import requests"
   ]
  },
  {
   "cell_type": "code",
   "execution_count": 3,
   "metadata": {},
   "outputs": [
    {
     "name": "stdout",
     "output_type": "stream",
     "text": [
      "\u001b[34m ____    _    ____        _  ___  _  _______ \n",
      "|  _ \\  / \\  |  _ \\      | |/ _ \\| |/ / ____|\n",
      "| | | |/ _ \\ | | | |  _  | | | | | ' /|  _|  \n",
      "| |_| / ___ \\| |_| | | |_| | |_| | . \\| |___ \n",
      "|____/_/   \\_\\____/   \\___/ \\___/|_|\\_\\_____|\n",
      "                                             \n",
      "  ____ _____ _   _ _____ ____      _  _____ ___  ____  \n",
      " / ___| ____| \\ | | ____|  _ \\    / \\|_   _/ _ \\|  _ \\ \n",
      "| |  _|  _| |  \\| |  _| | |_) |  / _ \\ | || | | | |_) |\n",
      "| |_| | |___| |\\  | |___|  _ <  / ___ \\| || |_| |  _ < \n",
      " \\____|_____|_| \\_|_____|_| \\_\\/_/   \\_\\_| \\___/|_| \\_\\\n",
      "                                                       \n",
      " ____   ___   ___   ___  \n",
      "| ___| / _ \\ / _ \\ / _ \\ \n",
      "|___ \\| | | | | | | | | |\n",
      " ___) | |_| | |_| | |_| |\n",
      "|____/ \\___/ \\___/ \\___/ \n",
      "                         \n",
      "\u001b[0m\n"
     ]
    }
   ],
   "source": [
    "# Generate ascii art for dad joke generator main title\n",
    "title_msg = figlet_format('DAD JOKE GENERATOR 5000')\n",
    "colored_ascii = colored(title_msg, color = 'blue')\n",
    "\n",
    "print(colored_ascii)"
   ]
  },
  {
   "cell_type": "code",
   "execution_count": null,
   "metadata": {},
   "outputs": [],
   "source": [
    "# Define a function to make the request from icanhazdadjoke\n",
    "def retrieve_jokes(term):\n",
    "    # Set the URL to icanhazdadjoke\n",
    "    url = \"https://icanhazdadjoke.com/search\"\n",
    "    response = requests.get(url, \n",
    "                            headers = {\"Accept\":\"application/json\"}, \n",
    "                            params = {\n",
    "                                \"term\" : search_term,\n",
    "                           })\n",
    "    data = response.json()  \n",
    "    # The returned response is a list of dictionaries, each dictionary containing an ID and a joke. \n",
    "    return data\n",
    "\n",
    "# Initialize the joke generator loop and set continue_play to 'y'\n",
    "generator_on = True\n",
    "continue_play = 'y'\n",
    "\n",
    "# The joke loop will continue so long as generator_on is True\n",
    "while generator_on:\n",
    "    if continue_play == 'y':\n",
    "        search_term = input(\"Please choose a joke subject: \" )\n",
    "        \n",
    "        # Call the retrieve_jokes function and return the json data that it retrieves\n",
    "        data = retrieve_jokes(search_term)\n",
    "\n",
    "        num_jokes = len(data['results'])\n",
    "        \n",
    "        # If the term returned no jokes, tell the user as such\n",
    "        if num_jokes == 0:\n",
    "            print(f\"Your search for {search_term} generated no jokes. Please try again.\")\n",
    "            \n",
    "        # Otherwise, inform the user how many jokes were returned and choose one at random to display.\n",
    "        else:\n",
    "            print(f\"Your search for {search_term} generated {num_jokes} joke(s). Here is one:\" )\n",
    "            print(f\"{random.choice(data['results'])['joke']}\")\n",
    "            \n",
    "        # As the user if they would like to continue playing\n",
    "        continue_play = input(\"Would you like another joke? (Please enter 'y' or 'n':) \")\n",
    "        \n",
    "    # If the user no longer wants to continue playing, exit the loop\n",
    "    elif continue_play == 'n':\n",
    "        generator_on = False\n",
    "        print(\"Thank you. Goodbye!\")\n",
    "    # If the entry for continue_play is invalid, instruct the user to enter a valid input.\n",
    "    else:\n",
    "        continue_play = input(\"Entry invalid. Please enter 'y' or 'n'. Would you like another joke? \")\n",
    "            \n",
    "\n"
   ]
  },
  {
   "cell_type": "code",
   "execution_count": null,
   "metadata": {},
   "outputs": [],
   "source": []
  }
 ],
 "metadata": {
  "kernelspec": {
   "display_name": "Python 3.6.10 64-bit ('PythonData': conda)",
   "language": "python",
   "name": "python361064bitpythondataconda907735891ebd40c8b062b8b7a0c6961c"
  },
  "language_info": {
   "codemirror_mode": {
    "name": "ipython",
    "version": 3
   },
   "file_extension": ".py",
   "mimetype": "text/x-python",
   "name": "python",
   "nbconvert_exporter": "python",
   "pygments_lexer": "ipython3",
   "version": "3.6.12"
  }
 },
 "nbformat": 4,
 "nbformat_minor": 4
}
