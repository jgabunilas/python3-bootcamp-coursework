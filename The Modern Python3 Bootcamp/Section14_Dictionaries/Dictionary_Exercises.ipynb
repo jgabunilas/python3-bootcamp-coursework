{
 "cells": [
  {
   "cell_type": "markdown",
   "metadata": {},
   "source": [
    "# Dictionary Exercises"
   ]
  },
  {
   "cell_type": "code",
   "execution_count": 2,
   "metadata": {},
   "outputs": [
    {
     "data": {
      "text/plain": [
       "{'Name': 'Sierra', 'age': '28', 'school': 'Yale'}"
      ]
     },
     "execution_count": 2,
     "metadata": {},
     "output_type": "execute_result"
    }
   ],
   "source": [
    "user_info = {'Name':'Sierra', 'age':'28', 'school':'Yale'}\n",
    "user_info"
   ]
  },
  {
   "cell_type": "code",
   "execution_count": 1,
   "metadata": {},
   "outputs": [
    {
     "data": {
      "text/plain": [
       "'Neil Young'"
      ]
     },
     "execution_count": 1,
     "metadata": {},
     "output_type": "execute_result"
    }
   ],
   "source": [
    "artist = {\n",
    "    \"first\":\"Neil\",\n",
    "    \"last\":\"Young\"\n",
    "}\n",
    "\n",
    "full_name = artist['first'] + ' ' + artist['last']\n",
    "full_name"
   ]
  },
  {
   "cell_type": "code",
   "execution_count": 2,
   "metadata": {},
   "outputs": [
    {
     "data": {
      "text/plain": [
       "436.74"
      ]
     },
     "execution_count": 2,
     "metadata": {},
     "output_type": "execute_result"
    }
   ],
   "source": [
    "# DON'T TOUCH PLEASE!\n",
    "donations = dict(sam=25.0, lena=88.99, chuck=13.0, linus=99.5, stan=150.0, lisa=50.25, harrison=10.0)\n",
    "# DON'T TOUCH PLEASE!\n",
    "\n",
    "\n",
    "# Use a loop to add together all the donations and store the resulting number in a variable called total_donations\n",
    "\n",
    "total_donations = 0\n",
    "for value in donations.values():\n",
    "    total_donations += value\n",
    "    \n",
    "total_donations"
   ]
  },
  {
   "cell_type": "code",
   "execution_count": 3,
   "metadata": {},
   "outputs": [
    {
     "data": {
      "text/plain": [
       "{'name': 'unknown'}"
      ]
     },
     "execution_count": 3,
     "metadata": {},
     "output_type": "execute_result"
    }
   ],
   "source": [
    "new_user = {}.fromkeys(['name'],'unknown')\n",
    "new_user"
   ]
  },
  {
   "cell_type": "code",
   "execution_count": 4,
   "metadata": {},
   "outputs": [
    {
     "data": {
      "text/plain": [
       "{'n': 'unknown', 'a': 'unknown', 'm': 'unknown', 'e': 'unknown'}"
      ]
     },
     "execution_count": 4,
     "metadata": {},
     "output_type": "execute_result"
    }
   ],
   "source": [
    "new_user = {}.fromkeys('name','unknown')\n",
    "new_user"
   ]
  },
  {
   "cell_type": "code",
   "execution_count": 10,
   "metadata": {},
   "outputs": [
    {
     "name": "stdout",
     "output_type": "stream",
     "text": [
      "quiche\n",
      "We don't make that\n",
      "we don't make that\n"
     ]
    }
   ],
   "source": [
    "# This code picks a random food item:\n",
    "from random import choice #DON'T CHANGE!\n",
    "food = choice([\"cheese pizza\", \"quiche\",\"morning bun\",\"gummy bear\",\"tea cake\"]) #DON'T CHANGE!\n",
    "\n",
    "#DON'T CHANGE THIS DICTIONARY EITHER!\n",
    "bakery_stock = {\n",
    "    \"almond croissant\" : 12,\n",
    "    \"toffee cookie\": 3,\n",
    "    \"morning bun\": 1,\n",
    "    \"chocolate chunk cookie\": 9,\n",
    "    \"tea cake\": 25\n",
    "}\n",
    "\n",
    "print(food)\n",
    "# if food in bakery_stock:\n",
    "#     print(f\"{bakery_stock[food]} left\")\n",
    "# else:\n",
    "#     print(\"We don't make that\")\n",
    "\n",
    "if food in bakery_stock:\n",
    "    print(\"{} left\".format(bakery_stock[food]))\n",
    "else:\n",
    "    print(\"We don't make that\")\n",
    "    \n",
    "## Alternative solution\n",
    "quantity = bakery_stock.get(food)\n",
    "if quantity:\n",
    "    print(\"{} left\".format(quantity))\n",
    "else:\n",
    "    print(\"we don't make that\")"
   ]
  },
  {
   "cell_type": "code",
   "execution_count": 11,
   "metadata": {},
   "outputs": [
    {
     "data": {
      "text/plain": [
       "{'current_score': 0,\n",
       " 'high_score': 0,\n",
       " 'number_of_lives': 0,\n",
       " 'items_in_inventory': 0,\n",
       " 'power_ups': 0,\n",
       " 'ammo': 0,\n",
       " 'enemies_on_screen': 0,\n",
       " 'enemy_kills': 0,\n",
       " 'enemy_kill_streaks': 0,\n",
       " 'minutes_played': 0,\n",
       " 'notifications': 0,\n",
       " 'achievements': 0}"
      ]
     },
     "execution_count": 11,
     "metadata": {},
     "output_type": "execute_result"
    }
   ],
   "source": [
    "#DO NOT TOUCH game_properties!\n",
    "game_properties = [\"current_score\", \"high_score\", \"number_of_lives\", \"items_in_inventory\", \"power_ups\", \"ammo\", \"enemies_on_screen\", \"enemy_kills\", \"enemy_kill_streaks\", \"minutes_played\", \"notifications\", \"achievements\"] \n",
    "\n",
    "# Use the game_properties list and dict.fromkeys() to generate a dictionary with all values set to 0. Save the result to a variable called initial_game_state\n",
    "initial_game_state = {}.fromkeys(game_properties, 0)\n",
    "initial_game_state"
   ]
  },
  {
   "cell_type": "code",
   "execution_count": 20,
   "metadata": {},
   "outputs": [
    {
     "name": "stdout",
     "output_type": "stream",
     "text": [
      "{'croissant': 19, 'bagel': 4, 'muffin': 8, 'cake': 1}\n",
      "{'croissant': 19, 'bagel': 4, 'muffin': 8, 'cake': 1, 'cookie': 18}\n",
      "{'croissant': 19, 'bagel': 4, 'muffin': 8, 'cookie': 18}\n"
     ]
    }
   ],
   "source": [
    "inventory = {'croissant': 19, 'bagel': 4, 'muffin': 8, 'cake': 1} #DON'T CHANGE THIS LINE!\n",
    "\n",
    "# Make a copy of inventory and save it to a variable called stock_list USE A DICTIONARY METHOD\n",
    "\n",
    "stock_list = inventory.copy()\n",
    "print(stock_list)\n",
    "# add the value 18 to stock_list under the key \"cookie\"\n",
    "\n",
    "stock_list.update({\"cookie\":18})\n",
    "print(stock_list)\n",
    "\n",
    "# remove 'cake' from stock_list USE A DICTIONARY METHOD\n",
    "\n",
    "stock_list.pop('cake')\n",
    "print(stock_list)\n"
   ]
  },
  {
   "cell_type": "code",
   "execution_count": 21,
   "metadata": {},
   "outputs": [
    {
     "data": {
      "text/plain": [
       "{'CA': 'California', 'NJ': 'New Jersey', 'RI': 'Rhode Island'}"
      ]
     },
     "execution_count": 21,
     "metadata": {},
     "output_type": "execute_result"
    }
   ],
   "source": [
    "list1 = [\"CA\", \"NJ\", \"RI\"]\n",
    "list2 = [\"California\", \"New Jersey\", \"Rhode Island\"]\n",
    "\n",
    "# make sure your solution is assigned to the answer variable so the tests can work!\n",
    "answer = {list1[i]:list2[i] for i in range(0, len(list1))}\n",
    "answer\n"
   ]
  },
  {
   "cell_type": "code",
   "execution_count": 7,
   "metadata": {},
   "outputs": [
    {
     "name": "stdout",
     "output_type": "stream",
     "text": [
      "{'name': 'Jared', 'job': 'Musician', 'city': 'Bern'}\n",
      "{'name': 'Jared', 'job': 'Musician', 'city': 'Bern'}\n",
      "{'name': 'Jared', 'job': 'Musician', 'city': 'Bern'}\n"
     ]
    }
   ],
   "source": [
    "person = [[\"name\", \"Jared\"], [\"job\", \"Musician\"], [\"city\", \"Bern\"]]\n",
    "\n",
    "# use the person variable in your answer\n",
    "answer = { person[i][0]:person[i][1] for i in range(0, len(person))}\n",
    "print(answer)\n",
    "\n",
    "#Alternative solution\n",
    "answer = {k:v for k,v in person}\n",
    "print(answer)\n",
    "\n",
    "# Alternative solution\n",
    "answer = dict(person)\n",
    "print(answer)"
   ]
  },
  {
   "cell_type": "code",
   "execution_count": 9,
   "metadata": {},
   "outputs": [
    {
     "data": {
      "text/plain": [
       "{'a': 0, 'e': 0, 'i': 0, 'o': 0, 'u': 0}"
      ]
     },
     "execution_count": 9,
     "metadata": {},
     "output_type": "execute_result"
    }
   ],
   "source": [
    "vowels = ['a','e','i','o','u']\n",
    "answer = {}.fromkeys(vowels, 0)\n",
    "answer\n",
    "\n",
    "#Alternative solution\n",
    "answer = dict.fromkeys(\"aeiou\", 0)"
   ]
  },
  {
   "cell_type": "code",
   "execution_count": 15,
   "metadata": {},
   "outputs": [
    {
     "name": "stdout",
     "output_type": "stream",
     "text": [
      "A\n",
      "B\n",
      "C\n",
      "D\n",
      "E\n",
      "F\n",
      "G\n",
      "H\n",
      "I\n",
      "J\n",
      "K\n",
      "L\n",
      "M\n",
      "N\n",
      "O\n",
      "P\n",
      "Q\n",
      "R\n",
      "S\n",
      "T\n",
      "U\n",
      "V\n",
      "W\n",
      "X\n",
      "Y\n",
      "Z\n",
      "{65: 'A', 66: 'B', 67: 'C', 68: 'D', 69: 'E', 70: 'F', 71: 'G', 72: 'H', 73: 'I', 74: 'J', 75: 'K', 76: 'L', 77: 'M', 78: 'N', 79: 'O', 80: 'P', 81: 'Q', 82: 'R', 83: 'S', 84: 'T', 85: 'U', 86: 'V', 87: 'W', 88: 'X', 89: 'Y', 90: 'Z'}\n"
     ]
    }
   ],
   "source": [
    "for letter in range(65,91):\n",
    "    print(chr(letter))\n",
    "    \n",
    "answer = {letter:chr(letter) for letter in range(65, 91)}\n",
    "print(answer)"
   ]
  },
  {
   "cell_type": "code",
   "execution_count": null,
   "metadata": {},
   "outputs": [],
   "source": []
  }
 ],
 "metadata": {
  "kernelspec": {
   "display_name": "Python 3",
   "language": "python",
   "name": "python3"
  },
  "language_info": {
   "codemirror_mode": {
    "name": "ipython",
    "version": 3
   },
   "file_extension": ".py",
   "mimetype": "text/x-python",
   "name": "python",
   "nbconvert_exporter": "python",
   "pygments_lexer": "ipython3",
   "version": "3.6.12"
  }
 },
 "nbformat": 4,
 "nbformat_minor": 4
}
